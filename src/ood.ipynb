{
  "nbformat": 4,
  "nbformat_minor": 0,
  "metadata": {
    "colab": {
      "provenance": []
    },
    "kernelspec": {
      "name": "python3",
      "display_name": "Python 3"
    },
    "language_info": {
      "name": "python"
    },
    "accelerator": "GPU",
    "gpuClass": "standard",
    "widgets": {
      "application/vnd.jupyter.widget-state+json": {
        "dfe228b1cde041fcb979b6e02d97b259": {
          "model_module": "@jupyter-widgets/controls",
          "model_name": "HBoxModel",
          "model_module_version": "1.5.0",
          "state": {
            "_dom_classes": [],
            "_model_module": "@jupyter-widgets/controls",
            "_model_module_version": "1.5.0",
            "_model_name": "HBoxModel",
            "_view_count": null,
            "_view_module": "@jupyter-widgets/controls",
            "_view_module_version": "1.5.0",
            "_view_name": "HBoxView",
            "box_style": "",
            "children": [
              "IPY_MODEL_e22e762c3d264e4d893a2fa266695740",
              "IPY_MODEL_bc96b5ca589248a4a47da401a3d83242",
              "IPY_MODEL_3d8955205a22429aa928d2bfeca16b58"
            ],
            "layout": "IPY_MODEL_d883814efe6943bebf35fbbfc144c352"
          }
        },
        "e22e762c3d264e4d893a2fa266695740": {
          "model_module": "@jupyter-widgets/controls",
          "model_name": "HTMLModel",
          "model_module_version": "1.5.0",
          "state": {
            "_dom_classes": [],
            "_model_module": "@jupyter-widgets/controls",
            "_model_module_version": "1.5.0",
            "_model_name": "HTMLModel",
            "_view_count": null,
            "_view_module": "@jupyter-widgets/controls",
            "_view_module_version": "1.5.0",
            "_view_name": "HTMLView",
            "description": "",
            "description_tooltip": null,
            "layout": "IPY_MODEL_ab33d4259a6c4dd391723f15eb8d6011",
            "placeholder": "​",
            "style": "IPY_MODEL_3a8b5f314f704b07a6861b52b8ded5eb",
            "value": "100%"
          }
        },
        "bc96b5ca589248a4a47da401a3d83242": {
          "model_module": "@jupyter-widgets/controls",
          "model_name": "FloatProgressModel",
          "model_module_version": "1.5.0",
          "state": {
            "_dom_classes": [],
            "_model_module": "@jupyter-widgets/controls",
            "_model_module_version": "1.5.0",
            "_model_name": "FloatProgressModel",
            "_view_count": null,
            "_view_module": "@jupyter-widgets/controls",
            "_view_module_version": "1.5.0",
            "_view_name": "ProgressView",
            "bar_style": "success",
            "description": "",
            "description_tooltip": null,
            "layout": "IPY_MODEL_f8427896d8db4aa5940c612bfa73d8b3",
            "max": 170498071,
            "min": 0,
            "orientation": "horizontal",
            "style": "IPY_MODEL_dc71cb59a9614c08b743b7e95804a5ce",
            "value": 170498071
          }
        },
        "3d8955205a22429aa928d2bfeca16b58": {
          "model_module": "@jupyter-widgets/controls",
          "model_name": "HTMLModel",
          "model_module_version": "1.5.0",
          "state": {
            "_dom_classes": [],
            "_model_module": "@jupyter-widgets/controls",
            "_model_module_version": "1.5.0",
            "_model_name": "HTMLModel",
            "_view_count": null,
            "_view_module": "@jupyter-widgets/controls",
            "_view_module_version": "1.5.0",
            "_view_name": "HTMLView",
            "description": "",
            "description_tooltip": null,
            "layout": "IPY_MODEL_52f9a12dd9ae4754a07d5de92ff9a399",
            "placeholder": "​",
            "style": "IPY_MODEL_c84565eb4ec1473d98aa9aa8afd958f3",
            "value": " 170498071/170498071 [00:05&lt;00:00, 32641461.99it/s]"
          }
        },
        "d883814efe6943bebf35fbbfc144c352": {
          "model_module": "@jupyter-widgets/base",
          "model_name": "LayoutModel",
          "model_module_version": "1.2.0",
          "state": {
            "_model_module": "@jupyter-widgets/base",
            "_model_module_version": "1.2.0",
            "_model_name": "LayoutModel",
            "_view_count": null,
            "_view_module": "@jupyter-widgets/base",
            "_view_module_version": "1.2.0",
            "_view_name": "LayoutView",
            "align_content": null,
            "align_items": null,
            "align_self": null,
            "border": null,
            "bottom": null,
            "display": null,
            "flex": null,
            "flex_flow": null,
            "grid_area": null,
            "grid_auto_columns": null,
            "grid_auto_flow": null,
            "grid_auto_rows": null,
            "grid_column": null,
            "grid_gap": null,
            "grid_row": null,
            "grid_template_areas": null,
            "grid_template_columns": null,
            "grid_template_rows": null,
            "height": null,
            "justify_content": null,
            "justify_items": null,
            "left": null,
            "margin": null,
            "max_height": null,
            "max_width": null,
            "min_height": null,
            "min_width": null,
            "object_fit": null,
            "object_position": null,
            "order": null,
            "overflow": null,
            "overflow_x": null,
            "overflow_y": null,
            "padding": null,
            "right": null,
            "top": null,
            "visibility": null,
            "width": null
          }
        },
        "ab33d4259a6c4dd391723f15eb8d6011": {
          "model_module": "@jupyter-widgets/base",
          "model_name": "LayoutModel",
          "model_module_version": "1.2.0",
          "state": {
            "_model_module": "@jupyter-widgets/base",
            "_model_module_version": "1.2.0",
            "_model_name": "LayoutModel",
            "_view_count": null,
            "_view_module": "@jupyter-widgets/base",
            "_view_module_version": "1.2.0",
            "_view_name": "LayoutView",
            "align_content": null,
            "align_items": null,
            "align_self": null,
            "border": null,
            "bottom": null,
            "display": null,
            "flex": null,
            "flex_flow": null,
            "grid_area": null,
            "grid_auto_columns": null,
            "grid_auto_flow": null,
            "grid_auto_rows": null,
            "grid_column": null,
            "grid_gap": null,
            "grid_row": null,
            "grid_template_areas": null,
            "grid_template_columns": null,
            "grid_template_rows": null,
            "height": null,
            "justify_content": null,
            "justify_items": null,
            "left": null,
            "margin": null,
            "max_height": null,
            "max_width": null,
            "min_height": null,
            "min_width": null,
            "object_fit": null,
            "object_position": null,
            "order": null,
            "overflow": null,
            "overflow_x": null,
            "overflow_y": null,
            "padding": null,
            "right": null,
            "top": null,
            "visibility": null,
            "width": null
          }
        },
        "3a8b5f314f704b07a6861b52b8ded5eb": {
          "model_module": "@jupyter-widgets/controls",
          "model_name": "DescriptionStyleModel",
          "model_module_version": "1.5.0",
          "state": {
            "_model_module": "@jupyter-widgets/controls",
            "_model_module_version": "1.5.0",
            "_model_name": "DescriptionStyleModel",
            "_view_count": null,
            "_view_module": "@jupyter-widgets/base",
            "_view_module_version": "1.2.0",
            "_view_name": "StyleView",
            "description_width": ""
          }
        },
        "f8427896d8db4aa5940c612bfa73d8b3": {
          "model_module": "@jupyter-widgets/base",
          "model_name": "LayoutModel",
          "model_module_version": "1.2.0",
          "state": {
            "_model_module": "@jupyter-widgets/base",
            "_model_module_version": "1.2.0",
            "_model_name": "LayoutModel",
            "_view_count": null,
            "_view_module": "@jupyter-widgets/base",
            "_view_module_version": "1.2.0",
            "_view_name": "LayoutView",
            "align_content": null,
            "align_items": null,
            "align_self": null,
            "border": null,
            "bottom": null,
            "display": null,
            "flex": null,
            "flex_flow": null,
            "grid_area": null,
            "grid_auto_columns": null,
            "grid_auto_flow": null,
            "grid_auto_rows": null,
            "grid_column": null,
            "grid_gap": null,
            "grid_row": null,
            "grid_template_areas": null,
            "grid_template_columns": null,
            "grid_template_rows": null,
            "height": null,
            "justify_content": null,
            "justify_items": null,
            "left": null,
            "margin": null,
            "max_height": null,
            "max_width": null,
            "min_height": null,
            "min_width": null,
            "object_fit": null,
            "object_position": null,
            "order": null,
            "overflow": null,
            "overflow_x": null,
            "overflow_y": null,
            "padding": null,
            "right": null,
            "top": null,
            "visibility": null,
            "width": null
          }
        },
        "dc71cb59a9614c08b743b7e95804a5ce": {
          "model_module": "@jupyter-widgets/controls",
          "model_name": "ProgressStyleModel",
          "model_module_version": "1.5.0",
          "state": {
            "_model_module": "@jupyter-widgets/controls",
            "_model_module_version": "1.5.0",
            "_model_name": "ProgressStyleModel",
            "_view_count": null,
            "_view_module": "@jupyter-widgets/base",
            "_view_module_version": "1.2.0",
            "_view_name": "StyleView",
            "bar_color": null,
            "description_width": ""
          }
        },
        "52f9a12dd9ae4754a07d5de92ff9a399": {
          "model_module": "@jupyter-widgets/base",
          "model_name": "LayoutModel",
          "model_module_version": "1.2.0",
          "state": {
            "_model_module": "@jupyter-widgets/base",
            "_model_module_version": "1.2.0",
            "_model_name": "LayoutModel",
            "_view_count": null,
            "_view_module": "@jupyter-widgets/base",
            "_view_module_version": "1.2.0",
            "_view_name": "LayoutView",
            "align_content": null,
            "align_items": null,
            "align_self": null,
            "border": null,
            "bottom": null,
            "display": null,
            "flex": null,
            "flex_flow": null,
            "grid_area": null,
            "grid_auto_columns": null,
            "grid_auto_flow": null,
            "grid_auto_rows": null,
            "grid_column": null,
            "grid_gap": null,
            "grid_row": null,
            "grid_template_areas": null,
            "grid_template_columns": null,
            "grid_template_rows": null,
            "height": null,
            "justify_content": null,
            "justify_items": null,
            "left": null,
            "margin": null,
            "max_height": null,
            "max_width": null,
            "min_height": null,
            "min_width": null,
            "object_fit": null,
            "object_position": null,
            "order": null,
            "overflow": null,
            "overflow_x": null,
            "overflow_y": null,
            "padding": null,
            "right": null,
            "top": null,
            "visibility": null,
            "width": null
          }
        },
        "c84565eb4ec1473d98aa9aa8afd958f3": {
          "model_module": "@jupyter-widgets/controls",
          "model_name": "DescriptionStyleModel",
          "model_module_version": "1.5.0",
          "state": {
            "_model_module": "@jupyter-widgets/controls",
            "_model_module_version": "1.5.0",
            "_model_name": "DescriptionStyleModel",
            "_view_count": null,
            "_view_module": "@jupyter-widgets/base",
            "_view_module_version": "1.2.0",
            "_view_name": "StyleView",
            "description_width": ""
          }
        },
        "4dc794dfb4274670930a71173aa79674": {
          "model_module": "@jupyter-widgets/controls",
          "model_name": "HBoxModel",
          "model_module_version": "1.5.0",
          "state": {
            "_dom_classes": [],
            "_model_module": "@jupyter-widgets/controls",
            "_model_module_version": "1.5.0",
            "_model_name": "HBoxModel",
            "_view_count": null,
            "_view_module": "@jupyter-widgets/controls",
            "_view_module_version": "1.5.0",
            "_view_name": "HBoxView",
            "box_style": "",
            "children": [
              "IPY_MODEL_9cc952b506874acf8675f9b32025645e",
              "IPY_MODEL_b30a627577ff46ea8d4f3518c6db087a",
              "IPY_MODEL_5b2a67c3bc7c435d8cd582215e317724"
            ],
            "layout": "IPY_MODEL_b7ffadf461d1487cbd67ab9bce1e46cc"
          }
        },
        "9cc952b506874acf8675f9b32025645e": {
          "model_module": "@jupyter-widgets/controls",
          "model_name": "HTMLModel",
          "model_module_version": "1.5.0",
          "state": {
            "_dom_classes": [],
            "_model_module": "@jupyter-widgets/controls",
            "_model_module_version": "1.5.0",
            "_model_name": "HTMLModel",
            "_view_count": null,
            "_view_module": "@jupyter-widgets/controls",
            "_view_module_version": "1.5.0",
            "_view_name": "HTMLView",
            "description": "",
            "description_tooltip": null,
            "layout": "IPY_MODEL_4135d67f55d64a99a691a8390172b423",
            "placeholder": "​",
            "style": "IPY_MODEL_54043cef378e44ca9b9f5ad9c6cddc9c",
            "value": "100%"
          }
        },
        "b30a627577ff46ea8d4f3518c6db087a": {
          "model_module": "@jupyter-widgets/controls",
          "model_name": "FloatProgressModel",
          "model_module_version": "1.5.0",
          "state": {
            "_dom_classes": [],
            "_model_module": "@jupyter-widgets/controls",
            "_model_module_version": "1.5.0",
            "_model_name": "FloatProgressModel",
            "_view_count": null,
            "_view_module": "@jupyter-widgets/controls",
            "_view_module_version": "1.5.0",
            "_view_name": "ProgressView",
            "bar_style": "success",
            "description": "",
            "description_tooltip": null,
            "layout": "IPY_MODEL_43466a25097d4c48bba3cfe568e09f38",
            "max": 169001437,
            "min": 0,
            "orientation": "horizontal",
            "style": "IPY_MODEL_85ecb75f324f458d8ddd52b0c7dc4718",
            "value": 169001437
          }
        },
        "5b2a67c3bc7c435d8cd582215e317724": {
          "model_module": "@jupyter-widgets/controls",
          "model_name": "HTMLModel",
          "model_module_version": "1.5.0",
          "state": {
            "_dom_classes": [],
            "_model_module": "@jupyter-widgets/controls",
            "_model_module_version": "1.5.0",
            "_model_name": "HTMLModel",
            "_view_count": null,
            "_view_module": "@jupyter-widgets/controls",
            "_view_module_version": "1.5.0",
            "_view_name": "HTMLView",
            "description": "",
            "description_tooltip": null,
            "layout": "IPY_MODEL_c268da693a4f4672a0ba5cefd8c09011",
            "placeholder": "​",
            "style": "IPY_MODEL_1fb9010ebba54a30b7abee4eeb077f25",
            "value": " 169001437/169001437 [00:05&lt;00:00, 33625215.07it/s]"
          }
        },
        "b7ffadf461d1487cbd67ab9bce1e46cc": {
          "model_module": "@jupyter-widgets/base",
          "model_name": "LayoutModel",
          "model_module_version": "1.2.0",
          "state": {
            "_model_module": "@jupyter-widgets/base",
            "_model_module_version": "1.2.0",
            "_model_name": "LayoutModel",
            "_view_count": null,
            "_view_module": "@jupyter-widgets/base",
            "_view_module_version": "1.2.0",
            "_view_name": "LayoutView",
            "align_content": null,
            "align_items": null,
            "align_self": null,
            "border": null,
            "bottom": null,
            "display": null,
            "flex": null,
            "flex_flow": null,
            "grid_area": null,
            "grid_auto_columns": null,
            "grid_auto_flow": null,
            "grid_auto_rows": null,
            "grid_column": null,
            "grid_gap": null,
            "grid_row": null,
            "grid_template_areas": null,
            "grid_template_columns": null,
            "grid_template_rows": null,
            "height": null,
            "justify_content": null,
            "justify_items": null,
            "left": null,
            "margin": null,
            "max_height": null,
            "max_width": null,
            "min_height": null,
            "min_width": null,
            "object_fit": null,
            "object_position": null,
            "order": null,
            "overflow": null,
            "overflow_x": null,
            "overflow_y": null,
            "padding": null,
            "right": null,
            "top": null,
            "visibility": null,
            "width": null
          }
        },
        "4135d67f55d64a99a691a8390172b423": {
          "model_module": "@jupyter-widgets/base",
          "model_name": "LayoutModel",
          "model_module_version": "1.2.0",
          "state": {
            "_model_module": "@jupyter-widgets/base",
            "_model_module_version": "1.2.0",
            "_model_name": "LayoutModel",
            "_view_count": null,
            "_view_module": "@jupyter-widgets/base",
            "_view_module_version": "1.2.0",
            "_view_name": "LayoutView",
            "align_content": null,
            "align_items": null,
            "align_self": null,
            "border": null,
            "bottom": null,
            "display": null,
            "flex": null,
            "flex_flow": null,
            "grid_area": null,
            "grid_auto_columns": null,
            "grid_auto_flow": null,
            "grid_auto_rows": null,
            "grid_column": null,
            "grid_gap": null,
            "grid_row": null,
            "grid_template_areas": null,
            "grid_template_columns": null,
            "grid_template_rows": null,
            "height": null,
            "justify_content": null,
            "justify_items": null,
            "left": null,
            "margin": null,
            "max_height": null,
            "max_width": null,
            "min_height": null,
            "min_width": null,
            "object_fit": null,
            "object_position": null,
            "order": null,
            "overflow": null,
            "overflow_x": null,
            "overflow_y": null,
            "padding": null,
            "right": null,
            "top": null,
            "visibility": null,
            "width": null
          }
        },
        "54043cef378e44ca9b9f5ad9c6cddc9c": {
          "model_module": "@jupyter-widgets/controls",
          "model_name": "DescriptionStyleModel",
          "model_module_version": "1.5.0",
          "state": {
            "_model_module": "@jupyter-widgets/controls",
            "_model_module_version": "1.5.0",
            "_model_name": "DescriptionStyleModel",
            "_view_count": null,
            "_view_module": "@jupyter-widgets/base",
            "_view_module_version": "1.2.0",
            "_view_name": "StyleView",
            "description_width": ""
          }
        },
        "43466a25097d4c48bba3cfe568e09f38": {
          "model_module": "@jupyter-widgets/base",
          "model_name": "LayoutModel",
          "model_module_version": "1.2.0",
          "state": {
            "_model_module": "@jupyter-widgets/base",
            "_model_module_version": "1.2.0",
            "_model_name": "LayoutModel",
            "_view_count": null,
            "_view_module": "@jupyter-widgets/base",
            "_view_module_version": "1.2.0",
            "_view_name": "LayoutView",
            "align_content": null,
            "align_items": null,
            "align_self": null,
            "border": null,
            "bottom": null,
            "display": null,
            "flex": null,
            "flex_flow": null,
            "grid_area": null,
            "grid_auto_columns": null,
            "grid_auto_flow": null,
            "grid_auto_rows": null,
            "grid_column": null,
            "grid_gap": null,
            "grid_row": null,
            "grid_template_areas": null,
            "grid_template_columns": null,
            "grid_template_rows": null,
            "height": null,
            "justify_content": null,
            "justify_items": null,
            "left": null,
            "margin": null,
            "max_height": null,
            "max_width": null,
            "min_height": null,
            "min_width": null,
            "object_fit": null,
            "object_position": null,
            "order": null,
            "overflow": null,
            "overflow_x": null,
            "overflow_y": null,
            "padding": null,
            "right": null,
            "top": null,
            "visibility": null,
            "width": null
          }
        },
        "85ecb75f324f458d8ddd52b0c7dc4718": {
          "model_module": "@jupyter-widgets/controls",
          "model_name": "ProgressStyleModel",
          "model_module_version": "1.5.0",
          "state": {
            "_model_module": "@jupyter-widgets/controls",
            "_model_module_version": "1.5.0",
            "_model_name": "ProgressStyleModel",
            "_view_count": null,
            "_view_module": "@jupyter-widgets/base",
            "_view_module_version": "1.2.0",
            "_view_name": "StyleView",
            "bar_color": null,
            "description_width": ""
          }
        },
        "c268da693a4f4672a0ba5cefd8c09011": {
          "model_module": "@jupyter-widgets/base",
          "model_name": "LayoutModel",
          "model_module_version": "1.2.0",
          "state": {
            "_model_module": "@jupyter-widgets/base",
            "_model_module_version": "1.2.0",
            "_model_name": "LayoutModel",
            "_view_count": null,
            "_view_module": "@jupyter-widgets/base",
            "_view_module_version": "1.2.0",
            "_view_name": "LayoutView",
            "align_content": null,
            "align_items": null,
            "align_self": null,
            "border": null,
            "bottom": null,
            "display": null,
            "flex": null,
            "flex_flow": null,
            "grid_area": null,
            "grid_auto_columns": null,
            "grid_auto_flow": null,
            "grid_auto_rows": null,
            "grid_column": null,
            "grid_gap": null,
            "grid_row": null,
            "grid_template_areas": null,
            "grid_template_columns": null,
            "grid_template_rows": null,
            "height": null,
            "justify_content": null,
            "justify_items": null,
            "left": null,
            "margin": null,
            "max_height": null,
            "max_width": null,
            "min_height": null,
            "min_width": null,
            "object_fit": null,
            "object_position": null,
            "order": null,
            "overflow": null,
            "overflow_x": null,
            "overflow_y": null,
            "padding": null,
            "right": null,
            "top": null,
            "visibility": null,
            "width": null
          }
        },
        "1fb9010ebba54a30b7abee4eeb077f25": {
          "model_module": "@jupyter-widgets/controls",
          "model_name": "DescriptionStyleModel",
          "model_module_version": "1.5.0",
          "state": {
            "_model_module": "@jupyter-widgets/controls",
            "_model_module_version": "1.5.0",
            "_model_name": "DescriptionStyleModel",
            "_view_count": null,
            "_view_module": "@jupyter-widgets/base",
            "_view_module_version": "1.2.0",
            "_view_name": "StyleView",
            "description_width": ""
          }
        }
      }
    }
  },
  "cells": [
    {
      "cell_type": "code",
      "execution_count": null,
      "metadata": {
        "colab": {
          "base_uri": "https://localhost:8080/"
        },
        "id": "PVgWGvdFW_U0",
        "outputId": "df30e1d0-0a19-4a63-dd9f-7b1f9ad9ca2e"
      },
      "outputs": [
        {
          "output_type": "stream",
          "name": "stdout",
          "text": [
            "Mounted at /content/drive\n"
          ]
        }
      ],
      "source": [
        "from google.colab import drive\n",
        "drive.mount('/content/drive', force_remount=True)\n",
        "import sys\n",
        "sys.path.append('/content/drive/MyDrive/Duke/2022-2023/ECE 661/ECE 661 Project')"
      ]
    },
    {
      "cell_type": "code",
      "source": [
        "from resnet20 import ResNetCIFAR\n",
        "import torch\n",
        "import numpy as np\n",
        "import torchvision.transforms as transforms\n",
        "from torch.utils.data import Dataset, Sampler\n",
        "import torchvision\n",
        "import torch.nn as nn\n",
        "from FP_layers import *\n",
        "import sklearn.metrics as metrics\n",
        "import matplotlib.pyplot as plt"
      ],
      "metadata": {
        "id": "A97Whgf-XW0O"
      },
      "execution_count": null,
      "outputs": []
    },
    {
      "cell_type": "code",
      "source": [
        "class CIFARSampler(Sampler):\n",
        "    def __init__(self, dataset, lbl_low_bd, lbl_up_bd):\n",
        "        self.dataset = dataset\n",
        "        self.n = len(dataset)\n",
        "        self.lower_bound = lbl_low_bd\n",
        "        self.upper_bound = lbl_up_bd\n",
        "\n",
        "    def __iter__(self):\n",
        "        idxs = torch.where(((self.dataset.targets >= self.lower_bound) and (self.dataset.targets <= self.upper_bound)))\n",
        "        return iter(idxs)"
      ],
      "metadata": {
        "id": "33GBo_Mx8S1y"
      },
      "execution_count": null,
      "outputs": []
    },
    {
      "cell_type": "code",
      "source": [
        "def results(y_true, y_pred, plot_roc=False, plot_pr=False, title='', pl=1):\n",
        "    # ROC\n",
        "    fpr, tpr, threshold = metrics.roc_curve(y_true, y_pred, pos_label=pl)\n",
        "    auroc = metrics.auc(fpr, tpr)\n",
        "    fpr_at_95_tpr = fpr[tpr.tolist().index(min(tpr, key=lambda x:abs(x-0.95)))]\n",
        "    if plot_roc:\n",
        "        plt.figure(dpi=100)\n",
        "        plt.plot(fpr, tpr, label='AUC = %0.3f' % auroc)\n",
        "        plt.plot([0, 1], [0, 1], c='gray', linestyle='--', label='Chance')\n",
        "        plt.xlim([-0.05, 1.05])\n",
        "        plt.ylim([-0.05, 1.05])\n",
        "        plt.title('ROC ' + title)\n",
        "        plt.xlabel('FPR')\n",
        "        plt.ylabel('TPR')\n",
        "        plt.legend(loc='lower right')\n",
        "        plt.gca().set_aspect('equal')\n",
        "        plt.show()\n",
        "\n",
        "    # PR\n",
        "    precision, recall, thresholds = metrics.precision_recall_curve(y_true, y_pred, pos_label=pl)\n",
        "    aupr = metrics.auc(recall, precision)\n",
        "    id_pct = sum(y_true)/len(y_true)\n",
        "    if plot_pr:\n",
        "        plt.figure(dpi=100)\n",
        "        plt.plot(recall, precision, label='AUC = %0.3f' % aupr)\n",
        "        plt.plot([0, 1], [id_pct, id_pct], c='gray', linestyle='--', label='Chance')\n",
        "        plt.xlim([-0.05, 1.05])\n",
        "        plt.ylim([-0.05, 1.05])\n",
        "        plt.title('PR ' + title)\n",
        "        plt.xlabel('Recall')\n",
        "        plt.ylabel('Precision')\n",
        "        plt.legend(loc='lower right')\n",
        "        plt.gca().set_aspect('equal')\n",
        "        plt.show()\n",
        "\n",
        "    return aupr, fpr_at_95_tpr"
      ],
      "metadata": {
        "id": "X6Msv5LG8XG4"
      },
      "execution_count": null,
      "outputs": []
    },
    {
      "cell_type": "code",
      "source": [
        "def train(net, optimizer, scheduler, trainloader_in, trainloader_out):\n",
        "    net.train()\n",
        "\n",
        "    for in_set, out_set in zip(trainloader_in, trainloader_out):\n",
        "        inputs = torch.cat((in_set[0], out_set[0]), 0).to(device)\n",
        "        targets = in_set[1].to(device)\n",
        "\n",
        "        outputs = net(inputs)\n",
        "        scheduler.step()\n",
        "        optimizer.zero_grad()\n",
        "\n",
        "        loss = F.cross_entropy(outputs[:len(in_set[0])], targets)\n",
        "        term1 = outputs[len(in_set[0]):].mean(1)\n",
        "        term2 = torch.logsumexp(outputs[len(in_set[0]):], dim=1)\n",
        "        loss += 0.5 * -(term1 - term2).mean()\n",
        "        \n",
        "        loss.backward()\n",
        "        optimizer.step()\n",
        "\n",
        "    return net"
      ],
      "metadata": {
        "id": "da5I0AHf8sDb"
      },
      "execution_count": null,
      "outputs": []
    },
    {
      "cell_type": "code",
      "source": [
        "def test(net, testloader_in, testloader_out, test_type, T=1000):\n",
        "    net.eval()\n",
        "\n",
        "    testloaders = [testloader_in, testloader_out]\n",
        "    softmax = nn.Softmax(dim=1)\n",
        "    scores = torch.tensor(()).to(device)\n",
        "    dist_labels = torch.tensor(()).to(device)\n",
        "\n",
        "    with torch.no_grad():\n",
        "        for i in range(2):\n",
        "            testloader = testloaders[i]\n",
        "            for batch_idx, (inputs, targets) in enumerate(testloader):\n",
        "                inputs, targets = inputs.to(device), targets.to(device)\n",
        "                outputs = net(inputs)\n",
        "\n",
        "                if test_type == 'baseline':\n",
        "                  soft_probs = softmax(outputs)\n",
        "                  scores_batch, _ = soft_probs.max(1)\n",
        "\n",
        "                if test_type == 'ODIN':\n",
        "                  soft_probs = softmax(outputs / T)\n",
        "                  scores_batch, _ = soft_probs.max(1)\n",
        "\n",
        "                if test_type == 'energy':\n",
        "                    scores_batch = torch.logsumexp(outputs, dim=1)\n",
        "\n",
        "                if i == 0:\n",
        "                    dist_labels_batch = torch.ones(scores_batch.size()).to(device)\n",
        "                else:\n",
        "                    dist_labels_batch = torch.zeros(scores_batch.size()).to(device)\n",
        "\n",
        "                scores = torch.cat((scores, scores_batch), 0)\n",
        "                dist_labels = torch.cat((dist_labels, dist_labels_batch), 0)\n",
        "\n",
        "    return scores, dist_labels"
      ],
      "metadata": {
        "id": "Gy25EXRI8vcH"
      },
      "execution_count": null,
      "outputs": []
    },
    {
      "cell_type": "code",
      "source": [
        "def train_and_test(net, trainloader_in, trainloader_out, testloader_in, testloader_out, path, epochs=10, lr=0.1, momentum=0.875, decay=0.0005, nest=False,):\n",
        "    optimizer = optim.SGD(net.parameters(), lr=lr, momentum=momentum, weight_decay=decay, nesterov=nest)\n",
        "    scheduler = optim.lr_scheduler.MultiStepLR(optimizer, milestones=[int(epochs*0.5), int(epochs*0.75)], gamma=0.1)\n",
        "\n",
        "    start = time.time()\n",
        "\n",
        "    for epoch in range(epochs):\n",
        "        net = train(net, optimizer, scheduler, trainloader_in, trainloader_out)\n",
        "        logits, labels = test(net, testloader_in, testloader_out, 'baseline')\n",
        "        logits_np, labels_np = logits.cpu().detach().numpy(), labels.cpu().detach().numpy()\n",
        "        aupr, _ = results(labels_np, logits_np)\n",
        "        end = time.time()\n",
        "        print('Epoch:', epoch, ', AUPR:', aupr, 'Time:', end-start)\n",
        "\n",
        "        torch.save(net.state_dict(), path)"
      ],
      "metadata": {
        "id": "e-bzQEFV_T3H"
      },
      "execution_count": null,
      "outputs": []
    },
    {
      "cell_type": "code",
      "source": [
        "# Training Datasets for OE\n",
        "transform_train = transforms.Compose([\n",
        "    transforms.RandomCrop(32, padding=4),\n",
        "    transforms.RandomHorizontalFlip(),\n",
        "    transforms.ToTensor(),\n",
        "    transforms.Normalize((0.4914, 0.4822, 0.4465), (0.2023, 0.1994, 0.2010)),\n",
        "])\n",
        "trainset_in = torchvision.datasets.CIFAR10(root='./data', train=True, download=True, transform=transform_train)\n",
        "trainset_out = torchvision.datasets.CIFAR100(root='./data', train=True, download=True, transform=transform_train)\n",
        "trainloader_in = torch.utils.data.DataLoader(trainset_in, batch_size=100, shuffle=False, num_workers=2, sampler=CIFARSampler(trainset_in, 1, 5))\n",
        "trainloader_out = torch.utils.data.DataLoader(trainset_out, batch_size=100, shuffle=False, num_workers=2)"
      ],
      "metadata": {
        "id": "Ii04aJ__BpMe",
        "colab": {
          "base_uri": "https://localhost:8080/",
          "height": 150,
          "referenced_widgets": [
            "dfe228b1cde041fcb979b6e02d97b259",
            "e22e762c3d264e4d893a2fa266695740",
            "bc96b5ca589248a4a47da401a3d83242",
            "3d8955205a22429aa928d2bfeca16b58",
            "d883814efe6943bebf35fbbfc144c352",
            "ab33d4259a6c4dd391723f15eb8d6011",
            "3a8b5f314f704b07a6861b52b8ded5eb",
            "f8427896d8db4aa5940c612bfa73d8b3",
            "dc71cb59a9614c08b743b7e95804a5ce",
            "52f9a12dd9ae4754a07d5de92ff9a399",
            "c84565eb4ec1473d98aa9aa8afd958f3",
            "4dc794dfb4274670930a71173aa79674",
            "9cc952b506874acf8675f9b32025645e",
            "b30a627577ff46ea8d4f3518c6db087a",
            "5b2a67c3bc7c435d8cd582215e317724",
            "b7ffadf461d1487cbd67ab9bce1e46cc",
            "4135d67f55d64a99a691a8390172b423",
            "54043cef378e44ca9b9f5ad9c6cddc9c",
            "43466a25097d4c48bba3cfe568e09f38",
            "85ecb75f324f458d8ddd52b0c7dc4718",
            "c268da693a4f4672a0ba5cefd8c09011",
            "1fb9010ebba54a30b7abee4eeb077f25"
          ]
        },
        "outputId": "376945c9-bc19-4590-d336-c9265055684b"
      },
      "execution_count": null,
      "outputs": [
        {
          "output_type": "stream",
          "name": "stdout",
          "text": [
            "Downloading https://www.cs.toronto.edu/~kriz/cifar-10-python.tar.gz to ./data/cifar-10-python.tar.gz\n"
          ]
        },
        {
          "output_type": "display_data",
          "data": {
            "text/plain": [
              "  0%|          | 0/170498071 [00:00<?, ?it/s]"
            ],
            "application/vnd.jupyter.widget-view+json": {
              "version_major": 2,
              "version_minor": 0,
              "model_id": "dfe228b1cde041fcb979b6e02d97b259"
            }
          },
          "metadata": {}
        },
        {
          "output_type": "stream",
          "name": "stdout",
          "text": [
            "Extracting ./data/cifar-10-python.tar.gz to ./data\n",
            "Downloading https://www.cs.toronto.edu/~kriz/cifar-100-python.tar.gz to ./data/cifar-100-python.tar.gz\n"
          ]
        },
        {
          "output_type": "display_data",
          "data": {
            "text/plain": [
              "  0%|          | 0/169001437 [00:00<?, ?it/s]"
            ],
            "application/vnd.jupyter.widget-view+json": {
              "version_major": 2,
              "version_minor": 0,
              "model_id": "4dc794dfb4274670930a71173aa79674"
            }
          },
          "metadata": {}
        },
        {
          "output_type": "stream",
          "name": "stdout",
          "text": [
            "Extracting ./data/cifar-100-python.tar.gz to ./data\n"
          ]
        }
      ]
    },
    {
      "cell_type": "code",
      "source": [
        "class CustomSet(Dataset):\n",
        "  def __init__(self, values):\n",
        "    super(CustomSet, self).__init__()\n",
        "    self.values = values\n",
        "  def __len__(self):\n",
        "    return len(self.values)\n",
        "  def __getitem__(self, index):\n",
        "    return self.values[index], 0"
      ],
      "metadata": {
        "id": "6-GXQ7PKJ0on"
      },
      "execution_count": null,
      "outputs": []
    },
    {
      "cell_type": "code",
      "source": [
        "# create ID and OOD testloaders\n",
        "def select_testloaders(oe=False, ood_set='CIFAR', LSUN_type='random'):\n",
        "  transform_CIFAR = transforms.Compose([\n",
        "        transforms.ToTensor(), transforms.Normalize((0.4914, 0.4822, 0.4465), (0.2023, 0.1994, 0.2010))])\n",
        "  \n",
        "  transform_LSUN_random = transforms.Compose([\n",
        "        transforms.RandomCrop(32), transforms.ToTensor(), transforms.Normalize((0.4914, 0.4822, 0.4465), (0.2023, 0.1994, 0.2010))])\n",
        "  \n",
        "  transform_LSUN_scale = transforms.Compose([\n",
        "        transforms.Resize((32,32)), transforms.ToTensor(), transforms.Normalize((0.4914, 0.4822, 0.4465), (0.2023, 0.1994, 0.2010))])\n",
        "  \n",
        "  transform_MNIST = transforms.Compose([\n",
        "        transforms.Pad(2), transforms.Grayscale(3), transforms.ToTensor(), transforms.Normalize((0.4914, 0.4822, 0.4465), (0.2023, 0.1994, 0.2010))])\n",
        "  \n",
        "  transform_rand = transforms.Normalize((0.4914, 0.4822, 0.4465), (0.2023, 0.1994, 0.2010))\n",
        "\n",
        "  # ID set is always CIFAR-10\n",
        "  testset_in = torchvision.datasets.CIFAR10(root='./data', train=False, download=True, transform=transform_CIFAR)\n",
        "\n",
        "  sampler = None\n",
        "  if oe:\n",
        "    sampler = CIFARSampler(testset_in, 1, 5)\n",
        "  testloader_in = torch.utils.data.DataLoader(testset_in, batch_size=100, shuffle=False, num_workers=2, sampler=sampler)\n",
        "  \n",
        "  if ood_set=='CIFAR':\n",
        "    testset_out = torchvision.datasets.CIFAR100(root='./data', train=False, download=True, transform=transform_CIFAR)\n",
        "    if oe:\n",
        "      sampler = CIFARSampler(testset_in, 6, 10)\n",
        "    testloader_out = torch.utils.data.DataLoader(testset_out, batch_size=100, shuffle=False, num_workers=2, sampler=sampler)\n",
        "\n",
        "  if ood_set == 'SVHN':\n",
        "    testset_out = torchvision.datasets.SVHN(root='./data', split='test', download=True, transform=transform_CIFAR)\n",
        "    testset_out = torch.utils.data.Subset(testset_out, np.random.choice(len(testset_out), 10000, replace=False))\n",
        "    testloader_out = torch.utils.data.DataLoader(testset_out, batch_size=100, shuffle=False, num_workers=2)\n",
        "\n",
        "  if ood_set == 'LSUN':\n",
        "    if LSUN_type == 'random':\n",
        "      testset_out = torchvision.datasets.LSUN(root='/content/drive/MyDrive/Duke/2022-2023/ECE 661/ECE 661 Project/LSUN_data', classes='test', transform=transform_LSUN_random)\n",
        "    elif LSUN_type == 'scale':\n",
        "      testset_out = torchvision.datasets.LSUN(root='/content/drive/MyDrive/Duke/2022-2023/ECE 661/ECE 661 Project/LSUN_data', classes='test', transform=transform_LSUN_scale)\n",
        "    testloader_out = torch.utils.data.DataLoader(testset_out, batch_size=100, shuffle=False, num_workers=2)\n",
        "  \n",
        "  if ood_set == 'MNIST':\n",
        "    testset_out = torchvision.datasets.MNIST(root='./data', train=False, download=True, transform=transform_MNIST)\n",
        "    testloader_out = torch.utils.data.DataLoader(testset_out, batch_size=100, shuffle=False, num_workers=2)\n",
        "\n",
        "  if ood_set == 'uni':\n",
        "    values = torch.rand((10000, 3, 32, 32))\n",
        "    testset_out = CustomSet(values)\n",
        "    testloader_out = torch.utils.data.DataLoader(testset_out, batch_size=100, shuffle=False, num_workers=2)\n",
        "\n",
        "  if ood_set == 'gauss':\n",
        "    values = torch.normal(0.5, 1, size=(10000, 3, 32, 32))\n",
        "    values = torch.clamp(values, min=0, max=1)\n",
        "    testset_out = CustomSet(values)\n",
        "    testloader_out = torch.utils.data.DataLoader(testset_out, batch_size=100, shuffle=False, num_workers=2)\n",
        "\n",
        "  return testloader_in, testloader_out"
      ],
      "metadata": {
        "id": "KZSrQzhSBrru"
      },
      "execution_count": null,
      "outputs": []
    },
    {
      "cell_type": "code",
      "source": [
        "# instantiate a resnet, load the appropriate model checkpoint\n",
        "device = 'cuda' if torch.cuda.is_available() else 'cpu'\n",
        "net = ResNetCIFAR(num_layers=34)\n",
        "net = net.to(device)\n",
        "path = '/content/drive/MyDrive/Duke/2022-2023/ECE 661/ECE 661 Project/Model Checkpoints/trained_model_34.pt'\n",
        "net.load_state_dict(torch.load(path))"
      ],
      "metadata": {
        "id": "JliAqv6NX_Y5",
        "colab": {
          "base_uri": "https://localhost:8080/"
        },
        "outputId": "b5bd4a98-0166-480d-cd9b-c55527ea6b42"
      },
      "execution_count": null,
      "outputs": [
        {
          "output_type": "execute_result",
          "data": {
            "text/plain": [
              "<All keys matched successfully>"
            ]
          },
          "metadata": {},
          "execution_count": 54
        }
      ]
    },
    {
      "cell_type": "code",
      "source": [
        "# choose the test OOD set\n",
        "testloader_in, testloader_out = select_testloaders(oe=False, ood_set='gauss', LSUN_type='scale')"
      ],
      "metadata": {
        "id": "NvExZftqPJ8_",
        "colab": {
          "base_uri": "https://localhost:8080/"
        },
        "outputId": "3e8e48dd-2c9a-46d4-d5f3-a891714d3d17"
      },
      "execution_count": null,
      "outputs": [
        {
          "output_type": "stream",
          "name": "stdout",
          "text": [
            "Files already downloaded and verified\n"
          ]
        }
      ]
    },
    {
      "cell_type": "code",
      "source": [
        "# train and provide AUPR results for the OE model if needed\n",
        "#train_and_test(net, trainloader_in, trainloader_out, testloader_in, testloader_out, path)"
      ],
      "metadata": {
        "id": "8HmM8BbqM2vk"
      },
      "execution_count": null,
      "outputs": []
    },
    {
      "cell_type": "code",
      "source": [
        "# Test with the given method\n",
        "logits, labels = test(net, testloader_in, testloader_out, 'baseline')\n",
        "\n",
        "print('Logits:', logits.shape, logits)\n",
        "print('Labels:', labels.shape, labels)"
      ],
      "metadata": {
        "id": "7D6-WSU0Ny-m",
        "colab": {
          "base_uri": "https://localhost:8080/"
        },
        "outputId": "76f4e7d7-731f-4d3d-a038-fc9b7ed034d3"
      },
      "execution_count": null,
      "outputs": [
        {
          "output_type": "stream",
          "name": "stdout",
          "text": [
            "Logits: torch.Size([20000]) tensor([0.9974, 0.9999, 0.9009,  ..., 0.4394, 0.5017, 0.4633], device='cuda:0')\n",
            "Labels: torch.Size([20000]) tensor([1., 1., 1.,  ..., 0., 0., 0.], device='cuda:0')\n"
          ]
        }
      ]
    },
    {
      "cell_type": "code",
      "source": [
        "# find and display results\n",
        "labels_np = labels.cpu().detach().numpy()\n",
        "logits_np = logits.cpu().detach().numpy()\n",
        "title = 'Baseline (ID: CIFAR-10, OOD: CIFAR-100)'\n",
        "\n",
        "aupr, fpr_at_95_tpr = results(labels_np, logits_np, False, False, title)\n",
        "print('AUPR: {:.4}'.format(aupr))\n",
        "print('FPR@95TPR: {:.4}'.format(fpr_at_95_tpr))"
      ],
      "metadata": {
        "id": "8ZRyWYbrOMm6",
        "colab": {
          "base_uri": "https://localhost:8080/"
        },
        "outputId": "8259c6c5-c7ef-44a3-8b78-4df9fbe7bc3f"
      },
      "execution_count": null,
      "outputs": [
        {
          "output_type": "stream",
          "name": "stdout",
          "text": [
            "AUPR: 0.9709\n",
            "FPR@95TPR: 0.2763\n"
          ]
        }
      ]
    }
  ]
}
